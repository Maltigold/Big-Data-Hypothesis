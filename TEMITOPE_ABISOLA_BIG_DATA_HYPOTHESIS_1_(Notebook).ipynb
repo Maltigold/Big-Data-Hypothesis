{
  "nbformat": 4,
  "nbformat_minor": 0,
  "metadata": {
    "colab": {
      "provenance": []
    },
    "kernelspec": {
      "name": "python3",
      "display_name": "Python 3"
    },
    "language_info": {
      "name": "python"
    }
  },
  "cells": [
    {
      "cell_type": "code",
      "execution_count": 1,
      "metadata": {
        "colab": {
          "base_uri": "https://localhost:8080/"
        },
        "id": "POsdUeD0ypb2",
        "outputId": "1720a870-9db0-4682-95c1-0c12dbd7816c"
      },
      "outputs": [
        {
          "output_type": "stream",
          "name": "stdout",
          "text": [
            "sample_data\n"
          ]
        }
      ],
      "source": [
        "!ls"
      ]
    },
    {
      "cell_type": "code",
      "source": [
        "# set-up spark (NB if Apache amend versions on download site we will need to amend path in wget command)\n",
        "## NOTE that this version would make use of Hadoop if installed BUT that HDFS & Hadoop is not installed on our Colab\n",
        "## (we are only using a single node (probably as a VM) so we will not be able to benefit from parallelism)\n",
        "!clear\n",
        "!echo welcome\n",
        "\n",
        "!rm -f spark-3.3.[01]-bin-hadoop3.tgz* \n",
        "!rm -rf spark-3.3.[01]-bin-hadoop3\n",
        "\n",
        "!apt-get install openjdk-8-jdk-headless -qq > /dev/null\n",
        "!wget https://downloads.apache.org/spark/spark-3.3.2/spark-3.3.2-bin-hadoop3.tgz\n",
        "!tar -xf spark-3.3.2-bin-hadoop3.tgz\n",
        "\n",
        "!ls -alt\n",
        "print(\"standalone Spark is now installed\")"
      ],
      "metadata": {
        "colab": {
          "base_uri": "https://localhost:8080/"
        },
        "id": "SWqjsWBdLC2j",
        "outputId": "c7ef73bd-6a4d-41af-cf57-6e83c82637ce"
      },
      "execution_count": 2,
      "outputs": [
        {
          "output_type": "stream",
          "name": "stdout",
          "text": [
            "\u001b[H\u001b[2Jwelcome\n",
            "--2023-05-25 13:20:18--  https://downloads.apache.org/spark/spark-3.3.2/spark-3.3.2-bin-hadoop3.tgz\n",
            "Resolving downloads.apache.org (downloads.apache.org)... 135.181.214.104, 88.99.95.219, 2a01:4f9:3a:2c57::2, ...\n",
            "Connecting to downloads.apache.org (downloads.apache.org)|135.181.214.104|:443... connected.\n",
            "HTTP request sent, awaiting response... 200 OK\n",
            "Length: 299360284 (285M) [application/x-gzip]\n",
            "Saving to: ‘spark-3.3.2-bin-hadoop3.tgz’\n",
            "\n",
            "spark-3.3.2-bin-had 100%[===================>] 285.49M  20.5MB/s    in 92s     \n",
            "\n",
            "2023-05-25 13:21:50 (3.12 MB/s) - ‘spark-3.3.2-bin-hadoop3.tgz’ saved [299360284/299360284]\n",
            "\n",
            "total 292372\n",
            "drwxr-xr-x  1 root root      4096 May 25 13:21 .\n",
            "drwxr-xr-x  1 root root      4096 May 25 13:15 ..\n",
            "drwxr-xr-x  1 root root      4096 May 23 13:31 sample_data\n",
            "drwxr-xr-x  4 root root      4096 May 23 13:30 .config\n",
            "-rw-r--r--  1 root root 299360284 Feb 10 21:28 spark-3.3.2-bin-hadoop3.tgz\n",
            "drwxr-xr-x 13  501 1000      4096 Feb 10 20:40 spark-3.3.2-bin-hadoop3\n",
            "standalone Spark is now installed\n"
          ]
        }
      ]
    },
    {
      "cell_type": "code",
      "source": [
        "# init spark (ensure SPARK_HOME set to same version as we download earlier)\n",
        "!pip3 install findspark\n",
        "import os\n",
        "os.environ[\"JAVA_HOME\"] = \"/usr/lib/jvm/java-8-openjdk-amd64\"\n",
        "os.environ[\"SPARK_HOME\"] = \"/content/spark-3.3.2-bin-hadoop3\"\n",
        "import findspark\n",
        "findspark.init()\n",
        "from pyspark import SparkConf, SparkContext\n",
        "# the next line gives us 'local' mode. try 'local[2]' to use 2 cores or 'master:NNNN' to run on Spark standalone cluster at port NNNN\n",
        "spark_conf = SparkConf().setMaster('local[2]').setAppName('MyApp')\n",
        "sc = SparkContext(conf=spark_conf)\n",
        "# see what we have by examining the Spark User Interface\n",
        "from pyspark.sql import *\n",
        "from pyspark.sql.functions import *\n",
        "SparkSession.builder.getOrCreate()\n",
        "## "
      ],
      "metadata": {
        "colab": {
          "base_uri": "https://localhost:8080/",
          "height": 306
        },
        "id": "76iweaTf0MwJ",
        "outputId": "aa556e60-c7a8-4829-afb6-61d737892aa1"
      },
      "execution_count": 3,
      "outputs": [
        {
          "output_type": "stream",
          "name": "stdout",
          "text": [
            "Looking in indexes: https://pypi.org/simple, https://us-python.pkg.dev/colab-wheels/public/simple/\n",
            "Collecting findspark\n",
            "  Downloading findspark-2.0.1-py2.py3-none-any.whl (4.4 kB)\n",
            "Installing collected packages: findspark\n",
            "Successfully installed findspark-2.0.1\n"
          ]
        },
        {
          "output_type": "execute_result",
          "data": {
            "text/plain": [
              "<pyspark.sql.session.SparkSession at 0x7fdc0dec6e30>"
            ],
            "text/html": [
              "\n",
              "            <div>\n",
              "                <p><b>SparkSession - in-memory</b></p>\n",
              "                \n",
              "        <div>\n",
              "            <p><b>SparkContext</b></p>\n",
              "\n",
              "            <p><a href=\"http://298a05848aaa:4040\">Spark UI</a></p>\n",
              "\n",
              "            <dl>\n",
              "              <dt>Version</dt>\n",
              "                <dd><code>v3.3.2</code></dd>\n",
              "              <dt>Master</dt>\n",
              "                <dd><code>local[2]</code></dd>\n",
              "              <dt>AppName</dt>\n",
              "                <dd><code>MyApp</code></dd>\n",
              "            </dl>\n",
              "        </div>\n",
              "        \n",
              "            </div>\n",
              "        "
            ]
          },
          "metadata": {},
          "execution_count": 3
        }
      ]
    },
    {
      "cell_type": "code",
      "source": [
        "# get file for given year from TfL open data\n",
        "!wget https://cycling.data.tfl.gov.uk/usage-stats/cyclehireusagestats-2014.zip\n",
        "!unzip cyclehireusagestats-2014.zip"
      ],
      "metadata": {
        "colab": {
          "base_uri": "https://localhost:8080/"
        },
        "id": "ZPv0064M0g46",
        "outputId": "c0661d16-256c-4e13-ba5b-f56472a93e0c"
      },
      "execution_count": 4,
      "outputs": [
        {
          "output_type": "stream",
          "name": "stdout",
          "text": [
            "--2023-05-25 13:22:08--  https://cycling.data.tfl.gov.uk/usage-stats/cyclehireusagestats-2014.zip\n",
            "Resolving cycling.data.tfl.gov.uk (cycling.data.tfl.gov.uk)... 104.16.101.13, 104.16.100.13\n",
            "Connecting to cycling.data.tfl.gov.uk (cycling.data.tfl.gov.uk)|104.16.101.13|:443... connected.\n",
            "HTTP request sent, awaiting response... 200 OK\n",
            "Length: 225215129 (215M) [application/zip]\n",
            "Saving to: ‘cyclehireusagestats-2014.zip’\n",
            "\n",
            "cyclehireusagestats 100%[===================>] 214.78M   143MB/s    in 1.5s    \n",
            "\n",
            "2023-05-25 13:22:09 (143 MB/s) - ‘cyclehireusagestats-2014.zip’ saved [225215129/225215129]\n",
            "\n",
            "Archive:  cyclehireusagestats-2014.zip\n",
            "  inflating: 1. Journey Data Extract 05Jan14-02Feb14.csv  \n",
            "  inflating: 10a. Journey Data Extract 14Sep14-27Sep14.csv  \n",
            "  inflating: 10b. Journey Data Extract 28Sep14-11Oct14.csv  \n",
            "  inflating: 11a. Journey Data Extract 12Oct14-08Nov14.csv  \n",
            "  inflating: 11b. Journey Data Extract 12Oct14-08Nov14.csv  \n",
            "  inflating: 12a. Journey Data Extract 09Nov14-06Dec14.csv  \n",
            "  inflating: 12b. Journey Data Extract 09Nov14-06Dec14.csv  \n",
            "  inflating: 13a. Journey Data Extract 07Dec14-21Dec14.csv  \n",
            "  inflating: 13b. Journey Data Extract 22Dec14-03Jan15.csv  \n",
            "  inflating: 14. Journey Data Extract 08Dec13-04Jan14.csv  \n",
            "  inflating: 2. Journey Data Extract 03Feb14-01Mar14.csv  \n",
            "  inflating: 3. Journey Data Extract 02Mar14-31Mar14.csv  \n",
            "  inflating: 4. Journey Data Extract 01Apr14-26Apr14.csv  \n",
            "  inflating: 5. Journey Data Extract 27Apr14-24May14.csv  \n",
            "  inflating: 6. Journey Data Extract 25May14-21Jun14.csv  \n",
            "  inflating: 7. Journey Data Extract 22Jun14-19Jul14.csv  \n",
            "  inflating: 8a Journey Data Extract 20Jul14-31Jul14.csv  \n",
            "  inflating: 8b Journey Data Extract 01Aug14-16Aug14.csv  \n",
            "  inflating: 9a Journey Data Extract 17Aug14-31Aug14.csv  \n",
            "  inflating: 9b Journey Data Extract 01Sep14-13Sep14.csv  \n"
          ]
        }
      ]
    },
    {
      "cell_type": "code",
      "source": [
        "# read in file\n",
        "!ls\n",
        "file=\"./*Journey*csv\"\n",
        "spark = SparkSession.builder.appName(\"bikes\").getOrCreate()\n",
        "j_df = (spark.read.format(\"csv\")\n",
        "         .option(\"header\", \"true\")\n",
        "         .option(\"inferSchema\", \"true\")\n",
        "         .load(file))\n",
        "\n",
        "# show top 15\n",
        "j_df.show(15)\n",
        "     "
      ],
      "metadata": {
        "colab": {
          "base_uri": "https://localhost:8080/"
        },
        "id": "KdvvlzNv1qjJ",
        "outputId": "3f39009b-1dec-4379-9ac7-24abaf9f7e81"
      },
      "execution_count": 5,
      "outputs": [
        {
          "output_type": "stream",
          "name": "stdout",
          "text": [
            "'10a. Journey Data Extract 14Sep14-27Sep14.csv'\n",
            "'10b. Journey Data Extract 28Sep14-11Oct14.csv'\n",
            "'11a. Journey Data Extract 12Oct14-08Nov14.csv'\n",
            "'11b. Journey Data Extract 12Oct14-08Nov14.csv'\n",
            "'12a. Journey Data Extract 09Nov14-06Dec14.csv'\n",
            "'12b. Journey Data Extract 09Nov14-06Dec14.csv'\n",
            "'13a. Journey Data Extract 07Dec14-21Dec14.csv'\n",
            "'13b. Journey Data Extract 22Dec14-03Jan15.csv'\n",
            "'14. Journey Data Extract 08Dec13-04Jan14.csv'\n",
            "'1. Journey Data Extract 05Jan14-02Feb14.csv'\n",
            "'2. Journey Data Extract 03Feb14-01Mar14.csv'\n",
            "'3. Journey Data Extract 02Mar14-31Mar14.csv'\n",
            "'4. Journey Data Extract 01Apr14-26Apr14.csv'\n",
            "'5. Journey Data Extract 27Apr14-24May14.csv'\n",
            "'6. Journey Data Extract 25May14-21Jun14.csv'\n",
            "'7. Journey Data Extract 22Jun14-19Jul14.csv'\n",
            "'8a Journey Data Extract 20Jul14-31Jul14.csv'\n",
            "'8b Journey Data Extract 01Aug14-16Aug14.csv'\n",
            "'9a Journey Data Extract 17Aug14-31Aug14.csv'\n",
            "'9b Journey Data Extract 01Sep14-13Sep14.csv'\n",
            " cyclehireusagestats-2014.zip\n",
            " sample_data\n",
            " spark-3.3.2-bin-hadoop3\n",
            " spark-3.3.2-bin-hadoop3.tgz\n",
            "+---------+--------+-------+----------------+-------------+--------------------+----------------+---------------+--------------------+\n",
            "|Rental Id|Duration|Bike Id|        End Date|EndStation Id|     EndStation Name|      Start Date|StartStation Id|   StartStation Name|\n",
            "+---------+--------+-------+----------------+-------------+--------------------+----------------+---------------+--------------------+\n",
            "| 34263367|    1080|   9076|24/06/2014 00:57|          695|Islington Green, ...|24/06/2014 00:39|            311|Foley Street, Fit...|\n",
            "| 34603487|     660|   6328|03/07/2014 11:51|          695|Islington Green, ...|03/07/2014 11:40|             22|Northington Stree...|\n",
            "| 34689078|     120|   2006|05/07/2014 15:09|          357|Howland Street, F...|05/07/2014 15:07|            311|Foley Street, Fit...|\n",
            "| 34724273|    1260|   7904|06/07/2014 16:35|          695|Islington Green, ...|06/07/2014 16:14|            311|Foley Street, Fit...|\n",
            "| 34956750|    1500|   8251|13/07/2014 00:41|           93|Cloudesley Road, ...|13/07/2014 00:16|            311|Foley Street, Fit...|\n",
            "| 34946549|    1380|   6997|12/07/2014 18:35|          430|South Parade, Che...|12/07/2014 18:12|            514|Portman Square, M...|\n",
            "| 35011368|    2820|   4193|14/07/2014 15:49|          573|Limerston Street,...|14/07/2014 15:02|             14|Belgrove Street ,...|\n",
            "| 35027649|     180|   9781|14/07/2014 19:50|          430|South Parade, Che...|14/07/2014 19:47|            216|Old Brompton Road...|\n",
            "| 35057973|     420|   5133|15/07/2014 17:17|          356|South Kensington ...|15/07/2014 17:10|            216|Old Brompton Road...|\n",
            "| 35086123|    1200|    190|16/07/2014 09:31|          290|Winsland Street, ...|16/07/2014 09:11|            430|South Parade, Che...|\n",
            "| 34868641|     960|   8620|10/07/2014 15:13|          345|Flood Street, Che...|10/07/2014 14:57|            405|Gloucester Road S...|\n",
            "| 34934674|    1440|   8257|12/07/2014 15:25|          192|Wardour Street, Soho|12/07/2014 15:01|            430|South Parade, Che...|\n",
            "| 35113372|     780|   5495|16/07/2014 19:44|          430|South Parade, Che...|16/07/2014 19:31|            290|Winsland Street, ...|\n",
            "| 35114768|    1380|  11118|16/07/2014 20:29|           43|Crawford Street, ...|16/07/2014 20:06|            430|South Parade, Che...|\n",
            "| 35161284|     300|   2825|17/07/2014 21:03|          430|South Parade, Che...|17/07/2014 20:58|            216|Old Brompton Road...|\n",
            "+---------+--------+-------+----------------+-------------+--------------------+----------------+---------------+--------------------+\n",
            "only showing top 15 rows\n",
            "\n"
          ]
        }
      ]
    },
    {
      "cell_type": "code",
      "source": [
        "from pyspark.sql.functions import col\n",
        "\n",
        "j_df = j_df.withColumn(\"Duration\", col(\"Duration\").cast(\"integer\"))\n"
      ],
      "metadata": {
        "id": "tClue6Qj2m0s"
      },
      "execution_count": 6,
      "outputs": []
    },
    {
      "cell_type": "code",
      "source": [
        "    # group \"StartStation Id\" and sum their \"Duration\" (seconds), sort in descending order\n",
        "    start_df = (j_df.select(\"StartStation Id\", \"StartStation Name\", \"EndStation Id\", \"EndStation Name\",\"Duration\").groupBy(\"StartStation Id\", \"StartStation Name\")).sum(\"Duration\").orderBy(\"sum(Duration)\", ascending=False)\n",
        "    # show top 10\n",
        "    start_df.show(15)\n",
        "    print('Note \"Duration\" is in seconds (see above table)')"
      ],
      "metadata": {
        "colab": {
          "base_uri": "https://localhost:8080/"
        },
        "id": "xELhTufC2tx7",
        "outputId": "f29d6546-4b9b-4507-e0de-dd0b9e3f1208"
      },
      "execution_count": 7,
      "outputs": [
        {
          "output_type": "stream",
          "name": "stdout",
          "text": [
            "+---------------+--------------------+-------------+\n",
            "|StartStation Id|   StartStation Name|sum(Duration)|\n",
            "+---------------+--------------------+-------------+\n",
            "|            191|Hyde Park Corner,...|    284098440|\n",
            "|            307|Black Lion Gate, ...|    206643840|\n",
            "|            406|Speakers' Corner ...|    166802880|\n",
            "|            303|Albert Gate, Hyde...|    162463740|\n",
            "|            407|Speakers' Corner ...|    122890680|\n",
            "|            213|Wellington Arch, ...|    114115200|\n",
            "|            248|Triangle Car Park...|     99534600|\n",
            "|            404|Palace Gate, Kens...|     99427860|\n",
            "|             14|Belgrove Street ,...|     91753680|\n",
            "|            541|Green Park Statio...|     82969020|\n",
            "|            304|Cumberland Gate, ...|     81794280|\n",
            "|            553|Regent's Row , Ha...|     79968240|\n",
            "|            153|Bayswater Road, H...|     75771840|\n",
            "|            154|Waterloo Station ...|     73002840|\n",
            "|            132|Bethnal Green Roa...|     66036120|\n",
            "+---------------+--------------------+-------------+\n",
            "only showing top 15 rows\n",
            "\n",
            "Note \"Duration\" is in seconds (see above table)\n"
          ]
        }
      ]
    },
    {
      "cell_type": "code",
      "source": [
        "    # group \"EndStation Id\" and sum their \"Duration\", sort in descending order\n",
        "    end_df = (j_df.select(\"EndStation Id\", \"EndStation Name\", \"EndStation Id\", \"EndStation Name\",\"Duration\").groupBy(\"EndStation Id\", \"EndStation Name\")).sum(\"Duration\").orderBy(\"sum(Duration)\", ascending=False)\n",
        "    # show top 15\n",
        "    end_df.show(15)"
      ],
      "metadata": {
        "colab": {
          "base_uri": "https://localhost:8080/"
        },
        "id": "MgCS6IS_3aFS",
        "outputId": "ac9c0676-44bc-4c29-b342-414d35dee709"
      },
      "execution_count": 8,
      "outputs": [
        {
          "output_type": "stream",
          "name": "stdout",
          "text": [
            "+-------------+--------------------+-------------+\n",
            "|EndStation Id|     EndStation Name|sum(Duration)|\n",
            "+-------------+--------------------+-------------+\n",
            "|          191|Hyde Park Corner,...|    241363260|\n",
            "|          307|Black Lion Gate, ...|    157634700|\n",
            "|          346|Mechanical Worksh...|    152758740|\n",
            "|          303|Albert Gate, Hyde...|    148776360|\n",
            "|          434|Mechanical Worksh...|    125366460|\n",
            "|          406|Speakers' Corner ...|    124861980|\n",
            "|          407|Speakers' Corner ...|     98682060|\n",
            "|           14|Belgrove Street ,...|     95816220|\n",
            "|          213|Wellington Arch, ...|     93690240|\n",
            "|          248|Triangle Car Park...|     91223340|\n",
            "|          404|Palace Gate, Kens...|     88896420|\n",
            "|          194|Hop Exchange, The...|     79657140|\n",
            "|          374|Waterloo Station ...|     77717700|\n",
            "|          341|Craven Street, St...|     71547960|\n",
            "|          553|Regent's Row , Ha...|     70321140|\n",
            "+-------------+--------------------+-------------+\n",
            "only showing top 15 rows\n",
            "\n"
          ]
        }
      ]
    },
    {
      "cell_type": "code",
      "source": [
        "# find rows where Duration is zero\n",
        "j_df.filter(\"Duration = 0\").count()"
      ],
      "metadata": {
        "colab": {
          "base_uri": "https://localhost:8080/"
        },
        "id": "VsTQa5b84IST",
        "outputId": "62df5577-d518-43bd-baf9-35a85f7598ad"
      },
      "execution_count": 9,
      "outputs": [
        {
          "output_type": "execute_result",
          "data": {
            "text/plain": [
              "32353"
            ]
          },
          "metadata": {},
          "execution_count": 9
        }
      ]
    },
    {
      "cell_type": "code",
      "source": [
        "# TO DO: determine how many rows have Duration of over a day  \n",
        "# try simple plot via pandas (we cover plotting again in demo#3)\n",
        "import matplotlib.pyplot as plt\n",
        "import pandas as pd\n",
        "\n",
        "non_zeros_df = j_df.filter(\"Duration > 0\")\n",
        "# plot those with duration less than 1800 seconds (0.5 hrs)\n",
        "pd_df = non_zeros_df.filter(\"Duration<1800\")[[\"Duration\"]].toPandas()\n",
        "print(\"sample of \",pd_df.count())\n",
        "\n",
        "pd_df.plot(kind=\"hist\") # do without and then repeat but set #bins same as Excel (presume 94 bins)\n",
        "plt.show()"
      ],
      "metadata": {
        "colab": {
          "base_uri": "https://localhost:8080/",
          "height": 480
        },
        "id": "ekvHQpRe4b7l",
        "outputId": "3376bfc8-5a76-4b7b-84ee-8dda205d1b0a"
      },
      "execution_count": 10,
      "outputs": [
        {
          "output_type": "stream",
          "name": "stdout",
          "text": [
            "sample of  Duration    8897207\n",
            "dtype: int64\n"
          ]
        },
        {
          "output_type": "display_data",
          "data": {
            "text/plain": [
              "<Figure size 640x480 with 1 Axes>"
            ],
            "image/png": "[encoded data removed]"
          },
          "metadata": {}
        }
      ]
    },
    {
      "cell_type": "code",
      "source": [
        "# Calculate the total number of rides\n",
        "total_rides = j_df.count()\n",
        "\n",
        "# Calculate the number of rides longer than 3 days\n",
        "long_rides = j_df.filter(j_df['Duration'] > 259200).count()\n",
        "\n",
        "# Calculate the percentage\n",
        "percentage = (long_rides / total_rides) * 100\n",
        "print(\"Percentage of rides lasting more than 3 days: \", percentage)"
      ],
      "metadata": {
        "colab": {
          "base_uri": "https://localhost:8080/"
        },
        "id": "mwtHgk-N7bO6",
        "outputId": "8905527f-105c-470d-872f-9d646b496501"
      },
      "execution_count": 11,
      "outputs": [
        {
          "output_type": "stream",
          "name": "stdout",
          "text": [
            "Percentage of rides lasting more than 3 days:  0.024238790495676735\n"
          ]
        }
      ]
    },
    {
      "cell_type": "code",
      "source": [
        "# Checking the DataFrame schema again to confirm the type of 'Start Date'\n",
        "j_df.printSchema()"
      ],
      "metadata": {
        "colab": {
          "base_uri": "https://localhost:8080/"
        },
        "id": "GI28BaN970Xy",
        "outputId": "8671cc17-c623-4bc8-b676-1292b3604104"
      },
      "execution_count": 12,
      "outputs": [
        {
          "output_type": "stream",
          "name": "stdout",
          "text": [
            "root\n",
            " |-- Rental Id: string (nullable = true)\n",
            " |-- Duration: integer (nullable = true)\n",
            " |-- Bike Id: string (nullable = true)\n",
            " |-- End Date: string (nullable = true)\n",
            " |-- EndStation Id: string (nullable = true)\n",
            " |-- EndStation Name: string (nullable = true)\n",
            " |-- Start Date: string (nullable = true)\n",
            " |-- StartStation Id: string (nullable = true)\n",
            " |-- StartStation Name: string (nullable = true)\n",
            "\n"
          ]
        }
      ]
    },
    {
      "cell_type": "code",
      "source": [
        "j_df.head(10)"
      ],
      "metadata": {
        "colab": {
          "base_uri": "https://localhost:8080/"
        },
        "id": "Kd1RtkxODE8Q",
        "outputId": "2c08c01c-9bc9-43d5-cea2-027278afb4e6"
      },
      "execution_count": 13,
      "outputs": [
        {
          "output_type": "execute_result",
          "data": {
            "text/plain": [
              "[Row(Rental Id='34263367', Duration=1080, Bike Id='9076', End Date='24/06/2014 00:57', EndStation Id='695', EndStation Name='Islington Green, Angel', Start Date='24/06/2014 00:39', StartStation Id='311', StartStation Name='Foley Street, Fitzrovia'),\n",
              " Row(Rental Id='34603487', Duration=660, Bike Id='6328', End Date='03/07/2014 11:51', EndStation Id='695', EndStation Name='Islington Green, Angel', Start Date='03/07/2014 11:40', StartStation Id='22', StartStation Name='Northington Street , Holborn'),\n",
              " Row(Rental Id='34689078', Duration=120, Bike Id='2006', End Date='05/07/2014 15:09', EndStation Id='357', EndStation Name='Howland Street, Fitzrovia', Start Date='05/07/2014 15:07', StartStation Id='311', StartStation Name='Foley Street, Fitzrovia'),\n",
              " Row(Rental Id='34724273', Duration=1260, Bike Id='7904', End Date='06/07/2014 16:35', EndStation Id='695', EndStation Name='Islington Green, Angel', Start Date='06/07/2014 16:14', StartStation Id='311', StartStation Name='Foley Street, Fitzrovia'),\n",
              " Row(Rental Id='34956750', Duration=1500, Bike Id='8251', End Date='13/07/2014 00:41', EndStation Id='93', EndStation Name='Cloudesley Road, Angel', Start Date='13/07/2014 00:16', StartStation Id='311', StartStation Name='Foley Street, Fitzrovia'),\n",
              " Row(Rental Id='34946549', Duration=1380, Bike Id='6997', End Date='12/07/2014 18:35', EndStation Id='430', EndStation Name='South Parade, Chelsea', Start Date='12/07/2014 18:12', StartStation Id='514', StartStation Name='Portman Square, Marylebone'),\n",
              " Row(Rental Id='35011368', Duration=2820, Bike Id='4193', End Date='14/07/2014 15:49', EndStation Id='573', EndStation Name='Limerston Street, Chelsea', Start Date='14/07/2014 15:02', StartStation Id='14', StartStation Name=\"Belgrove Street , King's Cross\"),\n",
              " Row(Rental Id='35027649', Duration=180, Bike Id='9781', End Date='14/07/2014 19:50', EndStation Id='430', EndStation Name='South Parade, Chelsea', Start Date='14/07/2014 19:47', StartStation Id='216', StartStation Name='Old Brompton Road, South Kensington'),\n",
              " Row(Rental Id='35057973', Duration=420, Bike Id='5133', End Date='15/07/2014 17:17', EndStation Id='356', EndStation Name='South Kensington Station, South Kensington', Start Date='15/07/2014 17:10', StartStation Id='216', StartStation Name='Old Brompton Road, South Kensington'),\n",
              " Row(Rental Id='35086123', Duration=1200, Bike Id='190', End Date='16/07/2014 09:31', EndStation Id='290', EndStation Name='Winsland Street, Paddington', Start Date='16/07/2014 09:11', StartStation Id='430', StartStation Name='South Parade, Chelsea')]"
            ]
          },
          "metadata": {},
          "execution_count": 13
        }
      ]
    },
    {
      "cell_type": "code",
      "source": [
        "# Check a few rows of the DataFrame to visually inspect the 'Start Date' and 'Month' values\n",
        "j_df.show(10, truncate=False)"
      ],
      "metadata": {
        "colab": {
          "base_uri": "https://localhost:8080/"
        },
        "id": "V4Oj-IYEDJuN",
        "outputId": "53c2b897-7287-4cc4-edd7-3ddc495bb52a"
      },
      "execution_count": 20,
      "outputs": [
        {
          "output_type": "stream",
          "name": "stdout",
          "text": [
            "+---------+--------+-------+-------------------+-------------+------------------------------------------+-------------------+---------------+-----------------------------------+-----+----+\n",
            "|Rental Id|Duration|Bike Id|End Date           |EndStation Id|EndStation Name                           |Start Date         |StartStation Id|StartStation Name                  |month|year|\n",
            "+---------+--------+-------+-------------------+-------------+------------------------------------------+-------------------+---------------+-----------------------------------+-----+----+\n",
            "|34263367 |1080    |9076   |2014-06-24 00:57:00|695          |Islington Green, Angel                    |2014-06-24 00:39:00|311            |Foley Street, Fitzrovia            |6    |2014|\n",
            "|34603487 |660     |6328   |2014-07-03 11:51:00|695          |Islington Green, Angel                    |2014-07-03 11:40:00|22             |Northington Street , Holborn       |7    |2014|\n",
            "|34689078 |120     |2006   |2014-07-05 15:09:00|357          |Howland Street, Fitzrovia                 |2014-07-05 15:07:00|311            |Foley Street, Fitzrovia            |7    |2014|\n",
            "|34724273 |1260    |7904   |2014-07-06 16:35:00|695          |Islington Green, Angel                    |2014-07-06 16:14:00|311            |Foley Street, Fitzrovia            |7    |2014|\n",
            "|34956750 |1500    |8251   |2014-07-13 00:41:00|93           |Cloudesley Road, Angel                    |2014-07-13 00:16:00|311            |Foley Street, Fitzrovia            |7    |2014|\n",
            "|34946549 |1380    |6997   |2014-07-12 18:35:00|430          |South Parade, Chelsea                     |2014-07-12 18:12:00|514            |Portman Square, Marylebone         |7    |2014|\n",
            "|35011368 |2820    |4193   |2014-07-14 15:49:00|573          |Limerston Street, Chelsea                 |2014-07-14 15:02:00|14             |Belgrove Street , King's Cross     |7    |2014|\n",
            "|35027649 |180     |9781   |2014-07-14 19:50:00|430          |South Parade, Chelsea                     |2014-07-14 19:47:00|216            |Old Brompton Road, South Kensington|7    |2014|\n",
            "|35057973 |420     |5133   |2014-07-15 17:17:00|356          |South Kensington Station, South Kensington|2014-07-15 17:10:00|216            |Old Brompton Road, South Kensington|7    |2014|\n",
            "|35086123 |1200    |190    |2014-07-16 09:31:00|290          |Winsland Street, Paddington               |2014-07-16 09:11:00|430            |South Parade, Chelsea              |7    |2014|\n",
            "+---------+--------+-------+-------------------+-------------+------------------------------------------+-------------------+---------------+-----------------------------------+-----+----+\n",
            "only showing top 10 rows\n",
            "\n"
          ]
        }
      ]
    },
    {
      "cell_type": "code",
      "source": [
        "from pyspark.sql.functions import to_timestamp\n",
        "\n",
        "#Assuming the date columns are named 'Start Date' and 'End Date' and they are in the format 'MM/dd/yyyy HH:mm:ss'(Replace with the actual format)\n",
        "\n",
        "j_df = j_df.withColumn(\"Start Date\", to_timestamp(col(\"Start Date\"), 'dd/MM/yyyy HH:mm'))\n",
        "j_df = j_df.withColumn(\"End Date\", to_timestamp(col(\"End Date\"), 'dd/MM/yyyy HH:mm'))\n"
      ],
      "metadata": {
        "id": "vvff4lUuDcE-"
      },
      "execution_count": 21,
      "outputs": []
    },
    {
      "cell_type": "code",
      "source": [
        "# Show the first 15 rows\n",
        "j_df.show(15)\n"
      ],
      "metadata": {
        "colab": {
          "base_uri": "https://localhost:8080/"
        },
        "id": "c-E-YdWrMCJ3",
        "outputId": "87c6261e-10a6-4a3c-f2b3-de9f8a1f1998"
      },
      "execution_count": 16,
      "outputs": [
        {
          "output_type": "stream",
          "name": "stdout",
          "text": [
            "+---------+--------+-------+-------------------+-------------+--------------------+-------------------+---------------+--------------------+\n",
            "|Rental Id|Duration|Bike Id|           End Date|EndStation Id|     EndStation Name|         Start Date|StartStation Id|   StartStation Name|\n",
            "+---------+--------+-------+-------------------+-------------+--------------------+-------------------+---------------+--------------------+\n",
            "| 34263367|    1080|   9076|2014-06-24 00:57:00|          695|Islington Green, ...|2014-06-24 00:39:00|            311|Foley Street, Fit...|\n",
            "| 34603487|     660|   6328|2014-07-03 11:51:00|          695|Islington Green, ...|2014-07-03 11:40:00|             22|Northington Stree...|\n",
            "| 34689078|     120|   2006|2014-07-05 15:09:00|          357|Howland Street, F...|2014-07-05 15:07:00|            311|Foley Street, Fit...|\n",
            "| 34724273|    1260|   7904|2014-07-06 16:35:00|          695|Islington Green, ...|2014-07-06 16:14:00|            311|Foley Street, Fit...|\n",
            "| 34956750|    1500|   8251|2014-07-13 00:41:00|           93|Cloudesley Road, ...|2014-07-13 00:16:00|            311|Foley Street, Fit...|\n",
            "| 34946549|    1380|   6997|2014-07-12 18:35:00|          430|South Parade, Che...|2014-07-12 18:12:00|            514|Portman Square, M...|\n",
            "| 35011368|    2820|   4193|2014-07-14 15:49:00|          573|Limerston Street,...|2014-07-14 15:02:00|             14|Belgrove Street ,...|\n",
            "| 35027649|     180|   9781|2014-07-14 19:50:00|          430|South Parade, Che...|2014-07-14 19:47:00|            216|Old Brompton Road...|\n",
            "| 35057973|     420|   5133|2014-07-15 17:17:00|          356|South Kensington ...|2014-07-15 17:10:00|            216|Old Brompton Road...|\n",
            "| 35086123|    1200|    190|2014-07-16 09:31:00|          290|Winsland Street, ...|2014-07-16 09:11:00|            430|South Parade, Che...|\n",
            "| 34868641|     960|   8620|2014-07-10 15:13:00|          345|Flood Street, Che...|2014-07-10 14:57:00|            405|Gloucester Road S...|\n",
            "| 34934674|    1440|   8257|2014-07-12 15:25:00|          192|Wardour Street, Soho|2014-07-12 15:01:00|            430|South Parade, Che...|\n",
            "| 35113372|     780|   5495|2014-07-16 19:44:00|          430|South Parade, Che...|2014-07-16 19:31:00|            290|Winsland Street, ...|\n",
            "| 35114768|    1380|  11118|2014-07-16 20:29:00|           43|Crawford Street, ...|2014-07-16 20:06:00|            430|South Parade, Che...|\n",
            "| 35161284|     300|   2825|2014-07-17 21:03:00|          430|South Parade, Che...|2014-07-17 20:58:00|            216|Old Brompton Road...|\n",
            "+---------+--------+-------+-------------------+-------------+--------------------+-------------------+---------------+--------------------+\n",
            "only showing top 15 rows\n",
            "\n"
          ]
        }
      ]
    },
    {
      "cell_type": "code",
      "source": [
        "from pyspark.sql.functions import month, year\n",
        "\n",
        "# Create 'month' and 'year' columns\n",
        "j_df = j_df.withColumn('month', month(j_df['Start Date']))\n",
        "j_df = j_df.withColumn('year', year(j_df['Start Date']))"
      ],
      "metadata": {
        "id": "-V1zxTWgML6E"
      },
      "execution_count": 17,
      "outputs": []
    },
    {
      "cell_type": "code",
      "source": [
        "j_df.show()"
      ],
      "metadata": {
        "colab": {
          "base_uri": "https://localhost:8080/"
        },
        "id": "0sKiwVjzMRPw",
        "outputId": "be1b8f1f-3b46-4c17-80ce-f6b2b986f0fa"
      },
      "execution_count": 18,
      "outputs": [
        {
          "output_type": "stream",
          "name": "stdout",
          "text": [
            "+---------+--------+-------+-------------------+-------------+--------------------+-------------------+---------------+--------------------+-----+----+\n",
            "|Rental Id|Duration|Bike Id|           End Date|EndStation Id|     EndStation Name|         Start Date|StartStation Id|   StartStation Name|month|year|\n",
            "+---------+--------+-------+-------------------+-------------+--------------------+-------------------+---------------+--------------------+-----+----+\n",
            "| 34263367|    1080|   9076|2014-06-24 00:57:00|          695|Islington Green, ...|2014-06-24 00:39:00|            311|Foley Street, Fit...|    6|2014|\n",
            "| 34603487|     660|   6328|2014-07-03 11:51:00|          695|Islington Green, ...|2014-07-03 11:40:00|             22|Northington Stree...|    7|2014|\n",
            "| 34689078|     120|   2006|2014-07-05 15:09:00|          357|Howland Street, F...|2014-07-05 15:07:00|            311|Foley Street, Fit...|    7|2014|\n",
            "| 34724273|    1260|   7904|2014-07-06 16:35:00|          695|Islington Green, ...|2014-07-06 16:14:00|            311|Foley Street, Fit...|    7|2014|\n",
            "| 34956750|    1500|   8251|2014-07-13 00:41:00|           93|Cloudesley Road, ...|2014-07-13 00:16:00|            311|Foley Street, Fit...|    7|2014|\n",
            "| 34946549|    1380|   6997|2014-07-12 18:35:00|          430|South Parade, Che...|2014-07-12 18:12:00|            514|Portman Square, M...|    7|2014|\n",
            "| 35011368|    2820|   4193|2014-07-14 15:49:00|          573|Limerston Street,...|2014-07-14 15:02:00|             14|Belgrove Street ,...|    7|2014|\n",
            "| 35027649|     180|   9781|2014-07-14 19:50:00|          430|South Parade, Che...|2014-07-14 19:47:00|            216|Old Brompton Road...|    7|2014|\n",
            "| 35057973|     420|   5133|2014-07-15 17:17:00|          356|South Kensington ...|2014-07-15 17:10:00|            216|Old Brompton Road...|    7|2014|\n",
            "| 35086123|    1200|    190|2014-07-16 09:31:00|          290|Winsland Street, ...|2014-07-16 09:11:00|            430|South Parade, Che...|    7|2014|\n",
            "| 34868641|     960|   8620|2014-07-10 15:13:00|          345|Flood Street, Che...|2014-07-10 14:57:00|            405|Gloucester Road S...|    7|2014|\n",
            "| 34934674|    1440|   8257|2014-07-12 15:25:00|          192|Wardour Street, Soho|2014-07-12 15:01:00|            430|South Parade, Che...|    7|2014|\n",
            "| 35113372|     780|   5495|2014-07-16 19:44:00|          430|South Parade, Che...|2014-07-16 19:31:00|            290|Winsland Street, ...|    7|2014|\n",
            "| 35114768|    1380|  11118|2014-07-16 20:29:00|           43|Crawford Street, ...|2014-07-16 20:06:00|            430|South Parade, Che...|    7|2014|\n",
            "| 35161284|     300|   2825|2014-07-17 21:03:00|          430|South Parade, Che...|2014-07-17 20:58:00|            216|Old Brompton Road...|    7|2014|\n",
            "| 35178200|     660|   2797|2014-07-18 11:49:00|          405|Gloucester Road S...|2014-07-18 11:38:00|            430|South Parade, Che...|    7|2014|\n",
            "| 35182220|     240|   9760|2014-07-18 13:45:00|          430|South Parade, Che...|2014-07-18 13:41:00|            405|Gloucester Road S...|    7|2014|\n",
            "| 35219861|     960|   5588|2014-07-19 13:45:00|          150|Holy Trinity Brom...|2014-07-19 13:29:00|            430|South Parade, Che...|    7|2014|\n",
            "| 35224864|     660|  11255|2014-07-19 15:17:00|          747|Ormonde Gate, Che...|2014-07-19 15:06:00|            368|Harriet Street, K...|    7|2014|\n",
            "| 34316757|     900|   2942|2014-06-25 11:40:00|          430|South Parade, Che...|2014-06-25 11:25:00|            638|Falcon Road, Clap...|    6|2014|\n",
            "+---------+--------+-------+-------------------+-------------+--------------------+-------------------+---------------+--------------------+-----+----+\n",
            "only showing top 20 rows\n",
            "\n"
          ]
        }
      ]
    },
    {
      "cell_type": "code",
      "source": [
        "from pyspark.sql.functions import mean, col\n",
        "\n",
        "# Filter for rides in Spring (March, April, May) and calculate average duration\n",
        "spring_rides = j_df.filter((col('month').between(3,6)) & (col('year') == 2014))\n",
        "spring_avg_duration = spring_rides.agg(mean('Duration')).collect()[0][0]\n",
        "\n",
        "# Filter for rides in Autumn (September, October, November) and calculate average duration\n",
        "autumn_rides = j_df.filter((col('month').between(9,11)) & (col('year') == 2014))\n",
        "autumn_avg_duration = autumn_rides.agg(mean('Duration')).collect()[0][0]\n",
        "\n",
        "print(f'Average duration in Spring 2014: {spring_avg_duration} seconds')\n",
        "print(f'Average duration in Autumn 2014: {autumn_avg_duration} seconds')\n",
        "\n",
        "# Testing the hypothesis\n",
        "if autumn_avg_duration > spring_avg_duration:\n",
        "    print(\"The hypothesis is true. People ride for longer in Autumn than in Spring.\")\n",
        "else:\n",
        "    print(\"The hypothesis is false. People do not ride for longer in Autumn than in Spring.\")\n"
      ],
      "metadata": {
        "colab": {
          "base_uri": "https://localhost:8080/"
        },
        "id": "sw0XrP3mMcD-",
        "outputId": "83fb917e-dc72-4987-ba2b-50398fdaabfa"
      },
      "execution_count": 23,
      "outputs": [
        {
          "output_type": "stream",
          "name": "stdout",
          "text": [
            "Average duration in Spring 2014: 1529.8674672029222 seconds\n",
            "Average duration in Autumn 2014: 1352.4007267927025 seconds\n",
            "The hypothesis is false. People do not ride for longer in Autumn than in Spring.\n"
          ]
        }
      ]
    }
  ]
}