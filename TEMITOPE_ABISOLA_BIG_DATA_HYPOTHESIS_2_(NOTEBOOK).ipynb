{
  "nbformat": 4,
  "nbformat_minor": 0,
  "metadata": {
    "colab": {
      "provenance": [],
      "gpuType": "T4"
    },
    "kernelspec": {
      "name": "python3",
      "display_name": "Python 3"
    },
    "language_info": {
      "name": "python"
    },
    "accelerator": "GPU",
    "gpuClass": "standard"
  },
  "cells": [
    {
      "cell_type": "code",
      "execution_count": null,
      "metadata": {
        "colab": {
          "base_uri": "https://localhost:8080/"
        },
        "id": "nAQxHP2wSRv4",
        "outputId": "d5f3f830-9831-46c9-bb97-31e809e83f69"
      },
      "outputs": [
        {
          "output_type": "stream",
          "name": "stdout",
          "text": [
            "drive  sample_data\n"
          ]
        }
      ],
      "source": [
        "# check if this instance of the notebook already has files present\n",
        "# and thus determine which steps required prior to reading in file and handling the data\n",
        "!ls"
      ]
    },
    {
      "cell_type": "code",
      "source": [
        "# set-up spark (NB if Apache amend versions on download site we will need to amend path in wget command)\n",
        "## NOTE that this version would make use of Hadoop if installed BUT that HDFS & Hadoop is not installed on our Colab\n",
        "## (we are only using a single node (probably as a VM) so we will not be able to benefit from parallelism)\n",
        "!clear\n",
        "!echo welcome\n",
        "\n",
        "!rm -f spark-3.3.[01]-bin-hadoop3.tgz* \n",
        "!rm -rf spark-3.3.[01]-bin-hadoop3\n",
        "\n",
        "!apt-get install openjdk-8-jdk-headless -qq > /dev/null\n",
        "!wget https://downloads.apache.org/spark/spark-3.3.2/spark-3.3.2-bin-hadoop3.tgz\n",
        "!tar -xf spark-3.3.2-bin-hadoop3.tgz\n",
        "\n",
        "!ls -alt\n",
        "print(\"standalone Spark is now installed\")"
      ],
      "metadata": {
        "colab": {
          "base_uri": "https://localhost:8080/"
        },
        "id": "-Btr5vA7SxE2",
        "outputId": "018bdfe6-abac-470e-f8ec-1e55f68fa80b"
      },
      "execution_count": null,
      "outputs": [
        {
          "output_type": "stream",
          "name": "stdout",
          "text": [
            "\u001b[H\u001b[2Jwelcome\n",
            "--2023-05-24 21:16:51--  https://downloads.apache.org/spark/spark-3.3.2/spark-3.3.2-bin-hadoop3.tgz\n",
            "Resolving downloads.apache.org (downloads.apache.org)... 135.181.214.104, 88.99.95.219, 2a01:4f8:10a:201a::2, ...\n",
            "Connecting to downloads.apache.org (downloads.apache.org)|135.181.214.104|:443... connected.\n",
            "HTTP request sent, awaiting response... 200 OK\n",
            "Length: 299360284 (285M) [application/x-gzip]\n",
            "Saving to: ‘spark-3.3.2-bin-hadoop3.tgz’\n",
            "\n",
            "spark-3.3.2-bin-had 100%[===================>] 285.49M  12.9MB/s    in 24s     \n",
            "\n",
            "2023-05-24 21:17:16 (11.8 MB/s) - ‘spark-3.3.2-bin-hadoop3.tgz’ saved [299360284/299360284]\n",
            "\n",
            "total 292376\n",
            "drwxr-xr-x  1 root root      4096 May 24 21:17 .\n",
            "drwx------  5 root root      4096 May 24 21:16 drive\n",
            "drwxr-xr-x  1 root root      4096 May 24 21:13 ..\n",
            "drwxr-xr-x  1 root root      4096 May 23 13:31 sample_data\n",
            "drwxr-xr-x  4 root root      4096 May 23 13:30 .config\n",
            "-rw-r--r--  1 root root 299360284 Feb 10 21:28 spark-3.3.2-bin-hadoop3.tgz\n",
            "drwxr-xr-x 13  501 1000      4096 Feb 10 20:40 spark-3.3.2-bin-hadoop3\n",
            "standalone Spark is now installed\n"
          ]
        }
      ]
    },
    {
      "cell_type": "code",
      "source": [
        "# init spark (ensure SPARK_HOME set to same version as we download earlier)\n",
        "!pip3 install findspark\n",
        "import os\n",
        "os.environ[\"JAVA_HOME\"] = \"/usr/lib/jvm/java-8-openjdk-amd64\"\n",
        "os.environ[\"SPARK_HOME\"] = \"/content/spark-3.3.2-bin-hadoop3\"\n",
        "import findspark\n",
        "findspark.init()\n",
        "from pyspark import SparkConf, SparkContext\n",
        "# the next line gives us 'local' mode. try 'local[2]' to use 2 cores or 'master:NNNN' to run on Spark standalone cluster at port NNNN\n",
        "spark_conf = SparkConf().setMaster('local[2]').setAppName('MyApp')\n",
        "sc = SparkContext(conf=spark_conf)\n",
        "# see what we have by examining the Spark User Interface\n",
        "from pyspark.sql import *\n",
        "from pyspark.sql.functions import *\n",
        "SparkSession.builder.getOrCreate()\n",
        "## "
      ],
      "metadata": {
        "colab": {
          "base_uri": "https://localhost:8080/",
          "height": 306
        },
        "id": "t3oz9VqlS-yq",
        "outputId": "a488e926-736d-49b5-8813-eca4138b63cc"
      },
      "execution_count": null,
      "outputs": [
        {
          "output_type": "stream",
          "name": "stdout",
          "text": [
            "Looking in indexes: https://pypi.org/simple, https://us-python.pkg.dev/colab-wheels/public/simple/\n",
            "Collecting findspark\n",
            "  Downloading findspark-2.0.1-py2.py3-none-any.whl (4.4 kB)\n",
            "Installing collected packages: findspark\n",
            "Successfully installed findspark-2.0.1\n"
          ]
        },
        {
          "output_type": "execute_result",
          "data": {
            "text/plain": [
              "<pyspark.sql.session.SparkSession at 0x7f205c241f00>"
            ],
            "text/html": [
              "\n",
              "            <div>\n",
              "                <p><b>SparkSession - in-memory</b></p>\n",
              "                \n",
              "        <div>\n",
              "            <p><b>SparkContext</b></p>\n",
              "\n",
              "            <p><a href=\"http://f33aba7daebd:4040\">Spark UI</a></p>\n",
              "\n",
              "            <dl>\n",
              "              <dt>Version</dt>\n",
              "                <dd><code>v3.3.2</code></dd>\n",
              "              <dt>Master</dt>\n",
              "                <dd><code>local[2]</code></dd>\n",
              "              <dt>AppName</dt>\n",
              "                <dd><code>MyApp</code></dd>\n",
              "            </dl>\n",
              "        </div>\n",
              "        \n",
              "            </div>\n",
              "        "
            ]
          },
          "metadata": {},
          "execution_count": 3
        }
      ]
    },
    {
      "cell_type": "code",
      "source": [
        "#I got the file from www.ons.gov.uk\n",
        "!wget https://www.ons.gov.uk/file?uri=/peoplepopulationandcommunity/healthandsocialcare/conditionsanddiseases/adhocs/004930numberofdeathswheretheunderlyingcausewasasthmabymonthofoccurrenceenglandandwalesdeathsthatoccurredbetween2001and2014/asthmadeathsbymonthew200114_tcm77-425256.xls\n"
      ],
      "metadata": {
        "colab": {
          "base_uri": "https://localhost:8080/"
        },
        "id": "O_Y6wrBXTakO",
        "outputId": "1b82ed87-48d2-4374-e583-194be3a85129"
      },
      "execution_count": null,
      "outputs": [
        {
          "output_type": "stream",
          "name": "stdout",
          "text": [
            "The name is too long, 267 chars total.\n",
            "Trying to shorten...\n",
            "New name is file?uri=%2Fpeoplepopulationandcommunity%2Fhealthandsocialcare%2Fconditionsanddiseases%2Fadhocs%2F004930numberofdeathswheretheunderlyingcausewasasthmabymonthofoccurrenceenglandandwalesdeathsthatoccurredbetween2001and2014%2Fasthmadeathsb.\n",
            "--2023-05-24 21:17:31--  https://www.ons.gov.uk/file?uri=/peoplepopulationandcommunity/healthandsocialcare/conditionsanddiseases/adhocs/004930numberofdeathswheretheunderlyingcausewasasthmabymonthofoccurrenceenglandandwalesdeathsthatoccurredbetween2001and2014/asthmadeathsbymonthew200114_tcm77-425256.xls\n",
            "Resolving www.ons.gov.uk (www.ons.gov.uk)... 104.16.230.22, 104.16.231.22, 2606:4700::6810:e616, ...\n",
            "Connecting to www.ons.gov.uk (www.ons.gov.uk)|104.16.230.22|:443... connected.\n",
            "HTTP request sent, awaiting response... 200 OK\n",
            "Length: unspecified [application/vnd.ms-excel]\n",
            "Saving to: ‘file?uri=%2Fpeoplepopulationandcommunity%2Fhealthandsocialcare%2Fconditionsanddiseases%2Fadhocs%2F004930numberofdeathswheretheunderlyingcausewasasthmabymonthofoccurrenceenglandandwalesdeathsthatoccurredbetween2001and2014%2Fasthmadeathsb’\n",
            "\n",
            "file?uri=%2Fpeoplep     [ <=>                ]  50.50K  --.-KB/s    in 0.001s  \n",
            "\n",
            "2023-05-24 21:17:32 (39.0 MB/s) - ‘file?uri=%2Fpeoplepopulationandcommunity%2Fhealthandsocialcare%2Fconditionsanddiseases%2Fadhocs%2F004930numberofdeathswheretheunderlyingcausewasasthmabymonthofoccurrenceenglandandwalesdeathsthatoccurredbetween2001and2014%2Fasthmadeathsb’ saved [51712]\n",
            "\n"
          ]
        }
      ]
    },
    {
      "cell_type": "code",
      "source": [
        "from pyspark.sql import SparkSession\n",
        "\n",
        "# Create a new SparkSession or retrieve an existing one\n",
        "spark = SparkSession.builder.appName(\"MyApp\").getOrCreate()"
      ],
      "metadata": {
        "id": "3wiQ6lHgTy-9"
      },
      "execution_count": null,
      "outputs": []
    },
    {
      "cell_type": "code",
      "source": [
        "!ls"
      ],
      "metadata": {
        "colab": {
          "base_uri": "https://localhost:8080/"
        },
        "id": "TdxmEhq9T_Qw",
        "outputId": "02b31ba3-c012-418e-dec3-38bf1f5652a0"
      },
      "execution_count": null,
      "outputs": [
        {
          "output_type": "stream",
          "name": "stdout",
          "text": [
            " drive\n",
            "'file?uri=%2Fpeoplepopulationandcommunity%2Fhealthandsocialcare%2Fconditionsanddiseases%2Fadhocs%2F004930numberofdeathswheretheunderlyingcausewasasthmabymonthofoccurrenceenglandandwalesdeathsthatoccurredbetween2001and2014%2Fasthmadeathsb'\n",
            " sample_data\n",
            " spark-3.3.2-bin-hadoop3\n",
            " spark-3.3.2-bin-hadoop3.tgz\n"
          ]
        }
      ]
    },
    {
      "cell_type": "code",
      "source": [
        "from google.colab import files\n",
        "uploaded = files.upload()"
      ],
      "metadata": {
        "colab": {
          "base_uri": "https://localhost:8080/",
          "height": 73
        },
        "id": "vtibU_v4UGU3",
        "outputId": "bed0e79c-5860-45a3-cf53-41694529625b"
      },
      "execution_count": null,
      "outputs": [
        {
          "output_type": "display_data",
          "data": {
            "text/plain": [
              "<IPython.core.display.HTML object>"
            ],
            "text/html": [
              "\n",
              "     <input type=\"file\" id=\"files-b29f92f0-141a-4f2f-8d5e-5d1175235d40\" name=\"files[]\" multiple disabled\n",
              "        style=\"border:none\" />\n",
              "     <output id=\"result-b29f92f0-141a-4f2f-8d5e-5d1175235d40\">\n",
              "      Upload widget is only available when the cell has been executed in the\n",
              "      current browser session. Please rerun this cell to enable.\n",
              "      </output>\n",
              "      <script>// Copyright 2017 Google LLC\n",
              "//\n",
              "// Licensed under the Apache License, Version 2.0 (the \"License\");\n",
              "// you may not use this file except in compliance with the License.\n",
              "// You may obtain a copy of the License at\n",
              "//\n",
              "//      http://www.apache.org/licenses/LICENSE-2.0\n",
              "//\n",
              "// Unless required by applicable law or agreed to in writing, software\n",
              "// distributed under the License is distributed on an \"AS IS\" BASIS,\n",
              "// WITHOUT WARRANTIES OR CONDITIONS OF ANY KIND, either express or implied.\n",
              "// See the License for the specific language governing permissions and\n",
              "// limitations under the License.\n",
              "\n",
              "/**\n",
              " * @fileoverview Helpers for google.colab Python module.\n",
              " */\n",
              "(function(scope) {\n",
              "function span(text, styleAttributes = {}) {\n",
              "  const element = document.createElement('span');\n",
              "  element.textContent = text;\n",
              "  for (const key of Object.keys(styleAttributes)) {\n",
              "    element.style[key] = styleAttributes[key];\n",
              "  }\n",
              "  return element;\n",
              "}\n",
              "\n",
              "// Max number of bytes which will be uploaded at a time.\n",
              "const MAX_PAYLOAD_SIZE = 100 * 1024;\n",
              "\n",
              "function _uploadFiles(inputId, outputId) {\n",
              "  const steps = uploadFilesStep(inputId, outputId);\n",
              "  const outputElement = document.getElementById(outputId);\n",
              "  // Cache steps on the outputElement to make it available for the next call\n",
              "  // to uploadFilesContinue from Python.\n",
              "  outputElement.steps = steps;\n",
              "\n",
              "  return _uploadFilesContinue(outputId);\n",
              "}\n",
              "\n",
              "// This is roughly an async generator (not supported in the browser yet),\n",
              "// where there are multiple asynchronous steps and the Python side is going\n",
              "// to poll for completion of each step.\n",
              "// This uses a Promise to block the python side on completion of each step,\n",
              "// then passes the result of the previous step as the input to the next step.\n",
              "function _uploadFilesContinue(outputId) {\n",
              "  const outputElement = document.getElementById(outputId);\n",
              "  const steps = outputElement.steps;\n",
              "\n",
              "  const next = steps.next(outputElement.lastPromiseValue);\n",
              "  return Promise.resolve(next.value.promise).then((value) => {\n",
              "    // Cache the last promise value to make it available to the next\n",
              "    // step of the generator.\n",
              "    outputElement.lastPromiseValue = value;\n",
              "    return next.value.response;\n",
              "  });\n",
              "}\n",
              "\n",
              "/**\n",
              " * Generator function which is called between each async step of the upload\n",
              " * process.\n",
              " * @param {string} inputId Element ID of the input file picker element.\n",
              " * @param {string} outputId Element ID of the output display.\n",
              " * @return {!Iterable<!Object>} Iterable of next steps.\n",
              " */\n",
              "function* uploadFilesStep(inputId, outputId) {\n",
              "  const inputElement = document.getElementById(inputId);\n",
              "  inputElement.disabled = false;\n",
              "\n",
              "  const outputElement = document.getElementById(outputId);\n",
              "  outputElement.innerHTML = '';\n",
              "\n",
              "  const pickedPromise = new Promise((resolve) => {\n",
              "    inputElement.addEventListener('change', (e) => {\n",
              "      resolve(e.target.files);\n",
              "    });\n",
              "  });\n",
              "\n",
              "  const cancel = document.createElement('button');\n",
              "  inputElement.parentElement.appendChild(cancel);\n",
              "  cancel.textContent = 'Cancel upload';\n",
              "  const cancelPromise = new Promise((resolve) => {\n",
              "    cancel.onclick = () => {\n",
              "      resolve(null);\n",
              "    };\n",
              "  });\n",
              "\n",
              "  // Wait for the user to pick the files.\n",
              "  const files = yield {\n",
              "    promise: Promise.race([pickedPromise, cancelPromise]),\n",
              "    response: {\n",
              "      action: 'starting',\n",
              "    }\n",
              "  };\n",
              "\n",
              "  cancel.remove();\n",
              "\n",
              "  // Disable the input element since further picks are not allowed.\n",
              "  inputElement.disabled = true;\n",
              "\n",
              "  if (!files) {\n",
              "    return {\n",
              "      response: {\n",
              "        action: 'complete',\n",
              "      }\n",
              "    };\n",
              "  }\n",
              "\n",
              "  for (const file of files) {\n",
              "    const li = document.createElement('li');\n",
              "    li.append(span(file.name, {fontWeight: 'bold'}));\n",
              "    li.append(span(\n",
              "        `(${file.type || 'n/a'}) - ${file.size} bytes, ` +\n",
              "        `last modified: ${\n",
              "            file.lastModifiedDate ? file.lastModifiedDate.toLocaleDateString() :\n",
              "                                    'n/a'} - `));\n",
              "    const percent = span('0% done');\n",
              "    li.appendChild(percent);\n",
              "\n",
              "    outputElement.appendChild(li);\n",
              "\n",
              "    const fileDataPromise = new Promise((resolve) => {\n",
              "      const reader = new FileReader();\n",
              "      reader.onload = (e) => {\n",
              "        resolve(e.target.result);\n",
              "      };\n",
              "      reader.readAsArrayBuffer(file);\n",
              "    });\n",
              "    // Wait for the data to be ready.\n",
              "    let fileData = yield {\n",
              "      promise: fileDataPromise,\n",
              "      response: {\n",
              "        action: 'continue',\n",
              "      }\n",
              "    };\n",
              "\n",
              "    // Use a chunked sending to avoid message size limits. See b/62115660.\n",
              "    let position = 0;\n",
              "    do {\n",
              "      const length = Math.min(fileData.byteLength - position, MAX_PAYLOAD_SIZE);\n",
              "      const chunk = new Uint8Array(fileData, position, length);\n",
              "      position += length;\n",
              "\n",
              "      const base64 = btoa(String.fromCharCode.apply(null, chunk));\n",
              "      yield {\n",
              "        response: {\n",
              "          action: 'append',\n",
              "          file: file.name,\n",
              "          data: base64,\n",
              "        },\n",
              "      };\n",
              "\n",
              "      let percentDone = fileData.byteLength === 0 ?\n",
              "          100 :\n",
              "          Math.round((position / fileData.byteLength) * 100);\n",
              "      percent.textContent = `${percentDone}% done`;\n",
              "\n",
              "    } while (position < fileData.byteLength);\n",
              "  }\n",
              "\n",
              "  // All done.\n",
              "  yield {\n",
              "    response: {\n",
              "      action: 'complete',\n",
              "    }\n",
              "  };\n",
              "}\n",
              "\n",
              "scope.google = scope.google || {};\n",
              "scope.google.colab = scope.google.colab || {};\n",
              "scope.google.colab._files = {\n",
              "  _uploadFiles,\n",
              "  _uploadFilesContinue,\n",
              "};\n",
              "})(self);\n",
              "</script> "
            ]
          },
          "metadata": {}
        },
        {
          "output_type": "stream",
          "name": "stdout",
          "text": [
            "Saving asthmadeathsbymonthew200114_tcm77-425256.xls to asthmadeathsbymonthew200114_tcm77-425256.xls\n"
          ]
        }
      ]
    },
    {
      "cell_type": "code",
      "source": [
        "# Reading of the file\n",
        "asthma_df = (spark.read.format(\"csv\")\n",
        "         .option(\"header\", \"true\")\n",
        "         .option(\"inferSchema\", \"true\")\n",
        "         .load(\"/content/drive/MyDrive/asthmadeathsbymonthew200114_tcm77-425256.csv\"))"
      ],
      "metadata": {
        "id": "pH1zQVtzVcTM"
      },
      "execution_count": null,
      "outputs": []
    },
    {
      "cell_type": "code",
      "source": [
        "asthma_df.show()"
      ],
      "metadata": {
        "colab": {
          "base_uri": "https://localhost:8080/"
        },
        "id": "Ul_WGFDzX2Mg",
        "outputId": "3732623d-e0e1-478a-d99d-e716f8f21299"
      },
      "execution_count": null,
      "outputs": [
        {
          "output_type": "stream",
          "name": "stdout",
          "text": [
            "+---------------------------------------------------------------------------------------------------------------------------------------------------+----+----+----+----+----+----+----+----+----+----+----+----+----+----------------+\n",
            "|Number of deaths where the underlying cause was asthma by month of occurrence,  England and Wales, deaths that occurred between 2001 and 2014 1,2,3| _c1| _c2| _c3| _c4| _c5| _c6| _c7| _c8| _c9|_c10|_c11|_c12|_c13|            _c14|\n",
            "+---------------------------------------------------------------------------------------------------------------------------------------------------+----+----+----+----+----+----+----+----+----+----+----+----+----+----------------+\n",
            "|                                                                                                                                               null|null|null|null|null|null|null|null|null|null|null|null|null|null|            null|\n",
            "|                                                                                                                                               null|null|null|null|null|null|null|null|null|null|null|null|null|null|Deaths (persons)|\n",
            "|                                                                                                                                Month of occurrence|2001|2002|2003|2004|2005|2006|2007|2008|2009|2010|2011|2012|2013|            2014|\n",
            "|                                                                                                                                                Jan| 136| 144| 130| 155| 146| 113| 124| 115| 149| 136| 153| 122| 141|             108|\n",
            "|                                                                                                                                                Feb| 119| 106| 107| 123| 125|  95| 116| 103|  97|  98|  84| 122| 124|              87|\n",
            "|                                                                                                                                                Mar| 119| 128|  92| 109| 139| 116|  86|  85|  76| 100| 103| 122| 124|              98|\n",
            "|                                                                                                                                                Apr| 111| 100| 115|  95| 112| 108|  91|  88|  75|  61|  79| 111| 107|             101|\n",
            "|                                                                                                                                                May| 106| 107| 100|  98|  88|  78|  69|  80|  64|  70|  77|  87|  87|              74|\n",
            "|                                                                                                                                                Jun|  81|  94|  75|  84|  97|  78|  84|  77|  80|  81|  63|  73|  80|              65|\n",
            "|                                                                                                                                                Jul|  88|  83|  80|  91|  67|  87|  81|  62|  67|  53|  61|  69|  80|              77|\n",
            "|                                                                                                                                                Aug|  93| 108| 112| 110|  75|  84|  54|  67|  54|  76|  61|  64|  46|              75|\n",
            "|                                                                                                                                                Sep|  83|  76|  84|  76|  67|  60|  57|  64|  66|  56|  80|  59|  66|              73|\n",
            "|                                                                                                                                                Oct|  93|  95| 100| 104|  78|  91|  83|  77|  78|  64|  74|  92|  73|              93|\n",
            "|                                                                                                                                                Nov| 101|  93| 148|  87|  97|  87|  82|  87|  86|  90|  86|  81|  68|             105|\n",
            "|                                                                                                                                                Dec| 139| 134| 141| 116| 101|  89| 123| 177| 105| 146| 110| 138| 107|             105|\n",
            "|                                                                                                                                               null|null|null|null|null|null|null|null|null|null|null|null|null|null|            null|\n",
            "|                                                                                                                                               null|null|null|null|null|null|null|null|null|null|null|null|null|null|            null|\n",
            "|                                                                                                                               1 Underlying caus...|null|null|null|null|null|null|null|null|null|null|null|null|null|            null|\n",
            "|                                                                                                                               2 Figures include...|null|null|null|null|null|null|null|null|null|null|null|null|null|            null|\n",
            "|                                                                                                                               3 Figures are for...|null|null|null|null|null|null|null|null|null|null|null|null|null|            null|\n",
            "+---------------------------------------------------------------------------------------------------------------------------------------------------+----+----+----+----+----+----+----+----+----+----+----+----+----+----------------+\n",
            "only showing top 20 rows\n",
            "\n"
          ]
        }
      ]
    },
    {
      "cell_type": "code",
      "source": [
        "print(\"Number of rows in asthma_df: \", asthma_df.count())"
      ],
      "metadata": {
        "colab": {
          "base_uri": "https://localhost:8080/"
        },
        "id": "0YuMifBNfIl0",
        "outputId": "7b9869c6-f2fa-4d8c-ea2d-b18068e59f3c"
      },
      "execution_count": null,
      "outputs": [
        {
          "output_type": "stream",
          "name": "stdout",
          "text": [
            "Number of rows in asthma_df:  24\n"
          ]
        }
      ]
    },
    {
      "cell_type": "code",
      "source": [
        "#from pyspark.sql.functions import col, isnan, when, trim\n",
        "\n",
        "# Remove null values\n",
        "#df = df.na.drop()\n",
        "\n",
        "# Rename each columns\n",
        "#new_column_names = [\"Month\", \"2001\", \"2002\", \"2003\", \"2004\", \"2005\", \"2006\", \"2007\", \"2008\", \"2009\", \"2010\", \"2011\", \"2012\", \"2013\", \"2014\"]\n",
        "#for old, new in zip(df.columns, new_column_names):\n",
        "   # df = df.withColumnRenamed(old, new)\n",
        "\n",
        "# Show the cleaned DataFrame\n",
        "#df.show()"
      ],
      "metadata": {
        "id": "nNojw35QX33m"
      },
      "execution_count": null,
      "outputs": []
    },
    {
      "cell_type": "code",
      "source": [
        "from pyspark.sql.functions import col\n",
        "\n",
        "# Remove null values\n",
        "asthma_df = asthma_df.dropna()\n",
        "\n",
        "# Rename each column\n",
        "new_column_names = [\"Month\", \"2001\", \"2002\", \"2003\", \"2004\", \"2005\", \"2006\", \"2007\", \"2008\", \"2009\", \"2010\", \"2011\", \"2012\", \"2013\", \"2014\"]\n",
        "asthma_df = asthma_df.toDF(*new_column_names)\n",
        "\n",
        "# Show the cleaned DataFrame\n",
        "asthma_df.show()\n"
      ],
      "metadata": {
        "colab": {
          "base_uri": "https://localhost:8080/"
        },
        "id": "B-TgRH72s_r_",
        "outputId": "3c9249df-c584-4d1e-bfe3-b489dfff1153"
      },
      "execution_count": null,
      "outputs": [
        {
          "output_type": "stream",
          "name": "stdout",
          "text": [
            "+-------------------+----+----+----+----+----+----+----+----+----+----+----+----+----+----+\n",
            "|              Month|2001|2002|2003|2004|2005|2006|2007|2008|2009|2010|2011|2012|2013|2014|\n",
            "+-------------------+----+----+----+----+----+----+----+----+----+----+----+----+----+----+\n",
            "|Month of occurrence|2001|2002|2003|2004|2005|2006|2007|2008|2009|2010|2011|2012|2013|2014|\n",
            "|                Jan| 136| 144| 130| 155| 146| 113| 124| 115| 149| 136| 153| 122| 141| 108|\n",
            "|                Feb| 119| 106| 107| 123| 125|  95| 116| 103|  97|  98|  84| 122| 124|  87|\n",
            "|                Mar| 119| 128|  92| 109| 139| 116|  86|  85|  76| 100| 103| 122| 124|  98|\n",
            "|                Apr| 111| 100| 115|  95| 112| 108|  91|  88|  75|  61|  79| 111| 107| 101|\n",
            "|                May| 106| 107| 100|  98|  88|  78|  69|  80|  64|  70|  77|  87|  87|  74|\n",
            "|                Jun|  81|  94|  75|  84|  97|  78|  84|  77|  80|  81|  63|  73|  80|  65|\n",
            "|                Jul|  88|  83|  80|  91|  67|  87|  81|  62|  67|  53|  61|  69|  80|  77|\n",
            "|                Aug|  93| 108| 112| 110|  75|  84|  54|  67|  54|  76|  61|  64|  46|  75|\n",
            "|                Sep|  83|  76|  84|  76|  67|  60|  57|  64|  66|  56|  80|  59|  66|  73|\n",
            "|                Oct|  93|  95| 100| 104|  78|  91|  83|  77|  78|  64|  74|  92|  73|  93|\n",
            "|                Nov| 101|  93| 148|  87|  97|  87|  82|  87|  86|  90|  86|  81|  68| 105|\n",
            "|                Dec| 139| 134| 141| 116| 101|  89| 123| 177| 105| 146| 110| 138| 107| 105|\n",
            "+-------------------+----+----+----+----+----+----+----+----+----+----+----+----+----+----+\n",
            "\n"
          ]
        }
      ]
    },
    {
      "cell_type": "code",
      "source": [
        "from pyspark.sql import functions as F\n",
        "from pyspark.sql.window import Window\n",
        "\n",
        "# Create a window specification to partition by all columns\n",
        "window_spec = Window.partitionBy(*asthma_df.columns)\n",
        "\n",
        "# Add a count column to identify duplicates\n",
        "autumn_df_with_count = asthma_df.withColumn(\"count\", F.count(\"*\").over(window_spec))\n",
        "\n",
        "# Filter rows with count greater than 1\n",
        "duplicate_rows = autumn_df_with_count.where(F.col(\"count\") > 1)\n",
        "\n",
        "# Show the duplicate rows\n",
        "duplicate_rows.show()\n"
      ],
      "metadata": {
        "colab": {
          "base_uri": "https://localhost:8080/"
        },
        "id": "oGpsIRtEf2gZ",
        "outputId": "896a7a70-deda-4677-a908-cb15978cf559"
      },
      "execution_count": null,
      "outputs": [
        {
          "output_type": "stream",
          "name": "stdout",
          "text": [
            "+-----+----+----+----+----+----+----+----+----+----+----+----+----+----+----+-----+\n",
            "|Month|2001|2002|2003|2004|2005|2006|2007|2008|2009|2010|2011|2012|2013|2014|count|\n",
            "+-----+----+----+----+----+----+----+----+----+----+----+----+----+----+----+-----+\n",
            "+-----+----+----+----+----+----+----+----+----+----+----+----+----+----+----+-----+\n",
            "\n"
          ]
        }
      ]
    },
    {
      "cell_type": "code",
      "source": [
        "# Select \"Month\" and \"2014\" columns\n",
        "asthma_df_2014 = asthma_df.select(\"Month\", \"2014\")\n",
        "\n",
        "# Show DataFrame\n",
        "asthma_df_2014.show()"
      ],
      "metadata": {
        "colab": {
          "base_uri": "https://localhost:8080/"
        },
        "id": "nXpQqJvlbFHo",
        "outputId": "69116bc6-f4a4-457f-ef38-49006f07f2ba"
      },
      "execution_count": null,
      "outputs": [
        {
          "output_type": "stream",
          "name": "stdout",
          "text": [
            "+-------------------+----+\n",
            "|              Month|2014|\n",
            "+-------------------+----+\n",
            "|Month of occurrence|2014|\n",
            "|                Jan| 108|\n",
            "|                Feb|  87|\n",
            "|                Mar|  98|\n",
            "|                Apr| 101|\n",
            "|                May|  74|\n",
            "|                Jun|  65|\n",
            "|                Jul|  77|\n",
            "|                Aug|  75|\n",
            "|                Sep|  73|\n",
            "|                Oct|  93|\n",
            "|                Nov| 105|\n",
            "|                Dec| 105|\n",
            "+-------------------+----+\n",
            "\n"
          ]
        }
      ]
    },
    {
      "cell_type": "code",
      "source": [
        "asthma_df_2014.printSchema()"
      ],
      "metadata": {
        "colab": {
          "base_uri": "https://localhost:8080/"
        },
        "id": "g4RBgcQIbLxm",
        "outputId": "f88b8f3d-9865-4f0c-fadd-0e1fb633d273"
      },
      "execution_count": null,
      "outputs": [
        {
          "output_type": "stream",
          "name": "stdout",
          "text": [
            "root\n",
            " |-- Month: string (nullable = true)\n",
            " |-- 2014: string (nullable = true)\n",
            "\n"
          ]
        }
      ]
    },
    {
      "cell_type": "code",
      "source": [
        "from pyspark.sql.functions import col\n",
        "\n",
        "# Import necessary libraries\n",
        "import pandas as pd\n",
        "import matplotlib.pyplot as plt\n",
        "import seaborn as sns\n",
        "\n",
        "# Filter out the unnecessary row\n",
        "asthma_df_2014 = asthma_df_2014.filter(col('Month') != 'Month of occurrence')\n",
        "asthma_df_2014 = asthma_df_2014.filter(col('2014') != '2014')\n",
        "\n",
        "# Convert column '2014' from string to integer\n",
        "asthma_df_2014 = asthma_df_2014.withColumn(\"2014\", col(\"2014\").cast(\"integer\"))\n",
        "\n",
        "# Convert the Spark DataFrame to a Pandas DataFrame for plotting\n",
        "pandas_df = asthma_df_2014.toPandas()\n",
        "\n",
        "# Plotting\n",
        "plt.figure(figsize=(10,8))\n",
        "sns.barplot(x='Month', y='2014', data=pandas_df)\n",
        "plt.title('Monthly Counts in 2014')\n",
        "plt.xlabel('Month')\n",
        "plt.ylabel('Count')\n",
        "plt.show()\n",
        "\n"
      ],
      "metadata": {
        "colab": {
          "base_uri": "https://localhost:8080/",
          "height": 718
        },
        "id": "xe6qer9kbShO",
        "outputId": "2512ddc0-175a-4e19-95e5-939235a4bf6a"
      },
      "execution_count": null,
      "outputs": [
        {
          "output_type": "display_data",
          "data": {
            "text/plain": [
              "<Figure size 1000x800 with 1 Axes>"
            ],
            "image/png": "[encoded data removed]"
          },
          "metadata": {}
        }
      ]
    },
    {
      "cell_type": "code",
      "source": [
        "from pyspark.sql.functions import max, min, sum\n",
        "\n",
        "# Calculate total deaths\n",
        "total_deaths = asthma_df_2014.select(sum(\"2014\")).collect()[0][0]\n",
        "\n",
        "# Find the month with most deaths\n",
        "max_deaths_row = asthma_df_2014.orderBy(asthma_df_2014['2014'].desc()).first()\n",
        "max_month = max_deaths_row['Month']\n",
        "max_deaths = max_deaths_row['2014']\n",
        "\n",
        "# Find the month with least deaths\n",
        "min_deaths_row = asthma_df_2014.orderBy(asthma_df_2014['2014']).first()\n",
        "min_month = min_deaths_row['Month']\n",
        "min_deaths = min_deaths_row['2014']\n",
        "\n",
        "# Calculate percentages\n",
        "max_percentage = (max_deaths / total_deaths) * 100\n",
        "min_percentage = (min_deaths / total_deaths) * 100\n",
        "\n",
        "print(f'Month with most deaths: {max_month} with {max_deaths} deaths ({max_percentage:.2f}%)')\n",
        "print(f'Month with least deaths: {min_month} with {min_deaths} deaths ({min_percentage:.2f}%)')\n"
      ],
      "metadata": {
        "colab": {
          "base_uri": "https://localhost:8080/"
        },
        "id": "ZCJ9iAp2dBDp",
        "outputId": "0a387592-797f-4b73-c101-19564058876d"
      },
      "execution_count": null,
      "outputs": [
        {
          "output_type": "stream",
          "name": "stdout",
          "text": [
            "Month with most deaths: Jan with 108 deaths (10.18%)\n",
            "Month with least deaths: Jun with 65 deaths (6.13%)\n"
          ]
        }
      ]
    },
    {
      "cell_type": "code",
      "source": [
        "# proving the Hypothesis that more people died from Asthma in the Autumn than in the spring\n",
        "# First, let's convert our Spark DataFrame to a pandas DataFrame for easier processing\n",
        "asthma_df_2014_pd = asthma_df_2014.toPandas()\n",
        "\n",
        "# Now, we need to remove the first row as it doesn't contain actual data\n",
        "asthma_df_2014_pd = asthma_df_2014_pd.iloc[1:]\n",
        "\n",
        "# Convert the 2014 column to numeric\n",
        "asthma_df_2014_pd['2014'] = pd.to_numeric(asthma_df_2014_pd['2014'])\n",
        "\n",
        "# Define the months corresponding to Spring and Autumn\n",
        "spring_months = ['Mar', 'Apr', 'May', 'Jun']\n",
        "autumn_months = ['Sep', 'Oct', 'Nov']\n",
        "\n",
        "# Calculate the sum of deaths in Spring and Autumn\n",
        "spring_deaths = asthma_df_2014_pd[asthma_df_2014_pd['Month'].isin(spring_months)]['2014'].sum()\n",
        "autumn_deaths = asthma_df_2014_pd[asthma_df_2014_pd['Month'].isin(autumn_months)]['2014'].sum()\n",
        "\n",
        "print(f\"Deaths in Spring: {spring_deaths}\")\n",
        "print(f\"Deaths in Autumn: {autumn_deaths}\")\n",
        "\n",
        "if autumn_deaths > spring_deaths:\n",
        "    print(\"The hypothesis is true. More people died of Asthma in Autumn than in Spring in 2014.\")\n",
        "else:\n",
        "    print(\"The hypothesis is false. More people died of Asthma in Spring than in Autumn in 2014.\")\n"
      ],
      "metadata": {
        "colab": {
          "base_uri": "https://localhost:8080/"
        },
        "id": "IUGRlmncdJtd",
        "outputId": "adb8eb32-3411-4261-95f6-4452d7f80935"
      },
      "execution_count": null,
      "outputs": [
        {
          "output_type": "stream",
          "name": "stdout",
          "text": [
            "Deaths in Spring: 338\n",
            "Deaths in Autumn: 271\n",
            "The hypothesis is false. More people died of Asthma in Spring than in Autumn in 2014.\n"
          ]
        }
      ]
    },
    {
      "cell_type": "code",
      "source": [
        "import matplotlib.pyplot as plt\n",
        "import seaborn as sns\n",
        "\n",
        "# Calculate the total number of deaths in Spring and Autumn\n",
        "spring_count = asthma_df.count()\n",
        "autumn_count = asthma_df.count()\n",
        "\n",
        "# Define the colors for the bars\n",
        "colors = sns.color_palette(\"Set2\")\n",
        "\n",
        "# Plot the total number of bike rides in each season with colors\n",
        "plt.bar(['Spring','Autumn'], [spring_count, autumn_count], color=colors)\n",
        "plt.xlabel(\"Season\")\n",
        "plt.ylabel(\"Number of deaths\")\n",
        "plt.title(\"Total Number of deaths in Spring and Autumn\")\n",
        "plt.show()"
      ],
      "metadata": {
        "colab": {
          "base_uri": "https://localhost:8080/",
          "height": 472
        },
        "id": "T2mGz_acuBNO",
        "outputId": "98dd7ddf-8cd0-441d-f058-ae9b83c67a04"
      },
      "execution_count": null,
      "outputs": [
        {
          "output_type": "display_data",
          "data": {
            "text/plain": [
              "<Figure size 640x480 with 1 Axes>"
            ],
            "image/png": "[encoded data removed]"
          },
          "metadata": {}
        }
      ]
    }
  ]
}